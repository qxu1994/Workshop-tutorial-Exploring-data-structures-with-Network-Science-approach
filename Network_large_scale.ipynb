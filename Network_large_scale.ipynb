{
 "cells": [
  {
   "cell_type": "code",
   "execution_count": 1,
   "metadata": {},
   "outputs": [],
   "source": [
    "import pandas as pd\n",
    "import networkx as nx\n",
    "from community import community_louvain\n",
    "import matplotlib.pyplot as plt\n",
    "import collections\n",
    "import seaborn as sns\n",
    "import random\n",
    "import matplotlib.colors as colors"
   ]
  },
  {
   "cell_type": "code",
   "execution_count": 2,
   "metadata": {},
   "outputs": [],
   "source": [
    "def construct_graph_from_csv(edges_file, nodes_file):\n",
    "    # Load edge data\n",
    "    edge_df = pd.read_csv(edges_file)\n",
    "    \n",
    "    # Create a graph from the edge dataframe\n",
    "    G = nx.from_pandas_edgelist(edge_df, 'Source', 'Target', 'Weight', create_using=nx.Graph())\n",
    "\n",
    "    # Load node data\n",
    "    node_df = pd.read_csv(nodes_file)\n",
    "    \n",
    "    # Create a dictionary in the form {node_id : {\"Label\": node_label}}\n",
    "    node_dict = node_df.set_index('Id').to_dict('index')\n",
    "\n",
    "    # Add node attributes to the graph\n",
    "    nx.set_node_attributes(G, node_dict)\n",
    "\n",
    "    return G"
   ]
  },
  {
   "cell_type": "code",
   "execution_count": 3,
   "metadata": {},
   "outputs": [],
   "source": [
    "G = construct_graph_from_csv('CN_EN_CS_edges.csv', 'CN_EN_CS_nodes.csv')"
   ]
  },
  {
   "cell_type": "code",
   "execution_count": 4,
   "metadata": {},
   "outputs": [],
   "source": [
    "def print_graph_info(G, n_sample_edges=5):\n",
    "    \"\"\"\n",
    "    Print basic information about the graph G, such as number of nodes, number of edges,\n",
    "    and the distribution of edge weights. Also, print n_sample_edges sample connections.\n",
    "    \"\"\"\n",
    "\n",
    "    print(f\"Number of nodes: {G.number_of_nodes()}\")\n",
    "    print(f\"Number of edges: {G.number_of_edges()}\")\n",
    "\n",
    "    weights = [data[\"Weight\"] for _, _, data in G.edges(data=True)]\n",
    "\n",
    "    # Edge weights distribution plot\n",
    "    sns.kdeplot(weights, fill=True)\n",
    "    plt.title(\"Distribution of Edge Weights\")\n",
    "    plt.show()\n",
    "\n",
    "    # Print n_sample_edges sample edges\n",
    "    print(f\"\\n{n_sample_edges} sample connections:\")\n",
    "    sample_edges = random.sample(list(G.edges(data=True)), n_sample_edges)\n",
    "    for u, v, data in sample_edges:\n",
    "        print(f\"Node {u} (Label: {G.nodes[u]['Label']}) - Node {v} (Label: {G.nodes[v]['Label']}), Weight: {data['Weight']}\")\n"
   ]
  },
  {
   "cell_type": "code",
   "execution_count": 5,
   "metadata": {},
   "outputs": [
    {
     "name": "stdout",
     "output_type": "stream",
     "text": [
      "Number of nodes: 4062\n",
      "Number of edges: 1030973\n"
     ]
    },
    {
     "data": {
      "image/png": "[encoded data removed]",
      "text/plain": [
       "<Figure size 432x288 with 1 Axes>"
      ]
     },
     "metadata": {
      "needs_background": "light"
     },
     "output_type": "display_data"
    },
    {
     "name": "stdout",
     "output_type": "stream",
     "text": [
      "\n",
      "5 sample connections:\n",
      "Node boyfriend (Label: en) - Node 随便 (Label: cn), Weight: 0.89717412\n",
      "Node were (Label: en) - Node 好好 (Label: cn), Weight: 0.367075324\n",
      "Node previous (Label: en) - Node 不久 (Label: cn), Weight: 0.8044333459999999\n",
      "Node propose (Label: en) - Node one (Label: en), Weight: 0.155323476\n",
      "Node 沟通 (Label: cn) - Node 讲 (Label: cn), Weight: 0.516965926\n"
     ]
    }
   ],
   "source": [
    "print_graph_info(G)"
   ]
  },
  {
   "cell_type": "code",
   "execution_count": null,
   "metadata": {},
   "outputs": [],
   "source": [
    "partition = community_louvain.best_partition(G, weight='Weight')"
   ]
  },
  {
   "cell_type": "code",
   "execution_count": null,
   "metadata": {},
   "outputs": [],
   "source": [
    "def plot_community_sizes(partition, G):\n",
    "    # Compute the modularity\n",
    "    modularity = community_louvain.modularity(partition, G)\n",
    "\n",
    "    print(f\"Modularity: {modularity}\")\n",
    "\n",
    "    # Count the number of nodes in each community\n",
    "    community_sizes = {}\n",
    "    community_labels = {}\n",
    "    for node, community in partition.items():\n",
    "        if community not in community_sizes:\n",
    "            community_sizes[community] = 0\n",
    "            community_labels[community] = {\"en\": 0, \"cn\": 0}\n",
    "        \n",
    "        community_sizes[community] += 1\n",
    "        community_labels[community][G.nodes[node]['Label']] += 1\n",
    "\n",
    "    # Print the label counts for each community and generate a pie chart\n",
    "    for community, labels in community_labels.items():\n",
    "        total = sum(labels.values())\n",
    "        print(f\"Community {community}:\")\n",
    "        sizes = []\n",
    "        for label, count in labels.items():\n",
    "            proportion = count / total * 100\n",
    "            sizes.append(proportion)\n",
    "            print(f\"{label}: {count} ({proportion:.2f}%)\")\n",
    "        \n",
    "        plt.pie(sizes, labels=labels.keys(), autopct='%1.1f%%')\n",
    "        plt.title(f\"Community {community} composition\")\n",
    "        plt.show()\n",
    "\n",
    "\n",
    "def visualize_network(partition, G, pos=None):\n",
    "    # Compute ForceAtlas2 layout for visualization \n",
    "    if pos is None:\n",
    "        forceatlas2 = ForceAtlas2(\n",
    "            # Behavior alternatives\n",
    "            outboundAttractionDistribution=True,  # Dissuade hubs\n",
    "            linLogMode=False,  # NOT IMPLEMENTED\n",
    "            adjustSizes=False,  # Prevent overlap (NOT IMPLEMENTED)\n",
    "            edgeWeightInfluence=1.0,\n",
    "\n",
    "            # Performance\n",
    "            jitterTolerance=1.0,  # Tolerance\n",
    "            barnesHutOptimize=True,\n",
    "            barnesHutTheta=1.2,\n",
    "            multiThreaded=False,  # NOT IMPLEMENTED\n",
    "\n",
    "            # Tuning\n",
    "            scalingRatio=2.0,\n",
    "            strongGravityMode=False,\n",
    "            gravity=1,\n",
    "\n",
    "            # Log\n",
    "            verbose=True\n",
    "        )\n",
    "\n",
    "        pos = forceatlas2.forceatlas2_networkx_layout(G, pos=None, iterations=200)\n",
    "    \n",
    "\n",
    "    # Scale position values to the range [0, 1] for better visualization\n",
    "    scaler = MinMaxScaler()\n",
    "    # Convert the positions into a 2D array suitable for scaler\n",
    "    pos_array = np.array(list(pos.values()))\n",
    "    # Fit the scaler and transform the positions\n",
    "    pos_scaled_array = scaler.fit_transform(pos_array)\n",
    "    # Convert the positions back into the dictionary format\n",
    "    pos_scaled = {node: pos_scaled_array[i] for i, node in enumerate(pos.keys())}\n",
    "\n",
    "    # Prepare node color list based on the 'Label' attribute\n",
    "    color_map = {\"en\": \"blue\", \"cn\": \"red\"}\n",
    "    node_colors = [color_map[G.nodes[node]['Label']] for node in G.nodes]\n",
    "\n",
    "    # Draw the graph\n",
    "    plt.figure(figsize=(10, 10))\n",
    "    nx.draw_networkx_nodes(G, pos_scaled, node_size=5, node_color=node_colors, alpha=0.7)\n",
    "    nx.draw_networkx_edges(G, pos_scaled, alpha=0.01, edge_color=\"lightgrey\")\n",
    "\n",
    "    plt.axis('off')\n",
    "    plt.show()"
   ]
  },
  {
   "cell_type": "code",
   "execution_count": null,
   "metadata": {},
   "outputs": [],
   "source": [
    "plot_community_sizes(partition, G)"
   ]
  },
  {
   "cell_type": "code",
   "execution_count": null,
   "metadata": {},
   "outputs": [],
   "source": [
    "visualize_network(partition, G)"
   ]
  }
 ],
 "metadata": {
  "kernelspec": {
   "display_name": "Python 3",
   "language": "python",
   "name": "python3"
  },
  "language_info": {
   "codemirror_mode": {
    "name": "ipython",
    "version": 3
   },
   "file_extension": ".py",
   "mimetype": "text/x-python",
   "name": "python",
   "nbconvert_exporter": "python",
   "pygments_lexer": "ipython3",
   "version": "3.7.7"
  }
 },
 "nbformat": 4,
 "nbformat_minor": 2
}
